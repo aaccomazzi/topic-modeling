{
 "cells": [
  {
   "cell_type": "code",
   "execution_count": 9,
   "metadata": {
    "collapsed": true
   },
   "outputs": [],
   "source": [
    "import numpy as np\n",
    "import pyspark\n",
    "import lda\n",
    "import lda.datasets"
   ]
  },
  {
   "cell_type": "code",
   "execution_count": 4,
   "metadata": {
    "collapsed": true
   },
   "outputs": [],
   "source": [
    "X = lda.datasets.load_reuters()\n",
    "vocab = lda.datasets.load_reuters_vocab()\n",
    "titles = lda.datasets.load_reuters_titles()"
   ]
  },
  {
   "cell_type": "code",
   "execution_count": 10,
   "metadata": {
    "collapsed": false
   },
   "outputs": [
    {
     "name": "stdout",
     "output_type": "stream",
     "text": [
      "Topic 0: government british minister west group letters party\n",
      "Topic 1: church first during people political country ceremony\n",
      "Topic 2: elvis king wright fans presley concert life\n",
      "Topic 3: yeltsin russian russia president kremlin michael romania\n",
      "Topic 4: pope vatican paul surgery pontiff john hospital\n",
      "Topic 5: family police miami versace cunanan funeral home\n",
      "Topic 6: south simpson born york white north african\n",
      "Topic 7: order church mother successor since election religious\n",
      "Topic 8: charles prince diana royal queen king parker\n",
      "Topic 9: film france french against actor paris bardot\n",
      "Topic 10: germany german war nazi christian letter book\n",
      "Topic 11: east prize peace timor quebec belo indonesia\n",
      "Topic 12: n't told life people church show very\n",
      "Topic 13: years world time year last say three\n",
      "Topic 14: mother teresa heart charity calcutta missionaries sister\n",
      "Topic 15: city salonika exhibition buddhist byzantine vietnam swiss\n",
      "Topic 16: music first people tour including off opera\n",
      "Topic 17: church catholic bernardin cardinal bishop death cancer\n",
      "Topic 18: harriman clinton u.s churchill paris president ambassador\n",
      "Topic 19: century art million museum city churches works\n"
     ]
    }
   ],
   "source": [
    "model = lda.LDA(n_topics=20, n_iter=500, random_state=1)\n",
    "model.fit(X)\n",
    "topic_word = model.topic_word_  # model.components_ also works\n",
    "n_top_words = 8\n",
    "for i, topic_dist in enumerate(topic_word):\n",
    "     topic_words = np.array(vocab)[np.argsort(topic_dist)][:-n_top_words:-1]\n",
    "     print('Topic {}: {}'.format(i, ' '.join(topic_words)))\n",
    "    \n",
    "doc_topic = model.doc_topic_\n",
    "for i in range(10):\n",
    "    print(\"{} (top topic: {})\".format(titles[i], doc_topic[i].argmax()))"
   ]
  }
 ],
 "metadata": {
  "kernelspec": {
   "display_name": "Python 3",
   "language": "python",
   "name": "python3"
  },
  "language_info": {
   "codemirror_mode": {
    "name": "ipython",
    "version": 3
   },
   "file_extension": ".py",
   "mimetype": "text/x-python",
   "name": "python",
   "nbconvert_exporter": "python",
   "pygments_lexer": "ipython3",
   "version": "3.5.2"
  }
 },
 "nbformat": 4,
 "nbformat_minor": 0
}
