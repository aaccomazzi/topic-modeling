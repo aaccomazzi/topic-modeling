{
 "cells": [
  {
   "cell_type": "code",
   "execution_count": 9,
   "metadata": {
    "collapsed": true
   },
   "outputs": [],
   "source": [
    "import numpy as np\n",
    "import pyspark\n",
    "import lda\n",
    "import lda.datasets"
   ]
  },
  {
   "cell_type": "code",
   "execution_count": 4,
   "metadata": {
    "collapsed": true
   },
   "outputs": [],
   "source": [
    "X = lda.datasets.load_reuters() #document-term matrix\n",
    "vocab = lda.datasets.load_reuters_vocab()\n",
    "titles = lda.datasets.load_reuters_titles()"
   ]
  },
  {
   "cell_type": "code",
   "execution_count": 10,
   "metadata": {
    "collapsed": false
   },
   "outputs": [
    {
     "name": "stdout",
     "output_type": "stream",
     "text": [
      "Topic 0: government british minister west group letters party\n",
      "Topic 1: church first during people political country ceremony\n",
      "Topic 2: elvis king wright fans presley concert life\n",
      "Topic 3: yeltsin russian russia president kremlin michael romania\n",
      "Topic 4: pope vatican paul surgery pontiff john hospital\n",
      "Topic 5: family police miami versace cunanan funeral home\n",
      "Topic 6: south simpson born york white north african\n",
      "Topic 7: order church mother successor since election religious\n",
      "Topic 8: charles prince diana royal queen king parker\n",
      "Topic 9: film france french against actor paris bardot\n",
      "Topic 10: germany german war nazi christian letter book\n",
      "Topic 11: east prize peace timor quebec belo indonesia\n",
      "Topic 12: n't told life people church show very\n",
      "Topic 13: years world time year last say three\n",
      "Topic 14: mother teresa heart charity calcutta missionaries sister\n",
      "Topic 15: city salonika exhibition buddhist byzantine vietnam swiss\n",
      "Topic 16: music first people tour including off opera\n",
      "Topic 17: church catholic bernardin cardinal bishop death cancer\n",
      "Topic 18: harriman clinton u.s churchill paris president ambassador\n",
      "Topic 19: century art million museum city churches works\n"
     ]
    }
   ],
   "source": [
    "model = lda.LDA(n_topics=20, n_iter=500, random_state=1)\n",
    "model.fit(X)\n",
    "\n",
    "topic_word = model.topic_word_  # model.components_ also works\n",
    "n_top_words = 8\n",
    "\n",
    "for i, topic_dist in enumerate(topic_word):\n",
    "     topic_words = np.array(vocab)[np.argsort(topic_dist)][:-n_top_words:-1]\n",
    "     print('Topic {}: {}'.format(i, ' '.join(topic_words)))\n",
    "    \n",
    "doc_topic = model.doc_topic_\n",
    "for i in range(10):\n",
    "    print(\"{} (top topic: {})\".format(titles[i], doc_topic[i].argmax()))"
   ]
  },
  {
   "cell_type": "code",
   "execution_count": 19,
   "metadata": {
    "collapsed": false
   },
   "outputs": [
    {
     "name": "stdout",
     "output_type": "stream",
     "text": [
      "doc id: 0 word id: 3117\n",
      "-- count: 2\n",
      "-- word : heir-to-the-throne\n",
      "-- doc  : 0 UK: Prince Charles spearheads British royal revolution. LONDON 1996-08-20\n"
     ]
    }
   ],
   "source": [
    "doc_id = 0\n",
    "word_id = 3117\n",
    "\n",
    "print(\"doc id: {} word id: {}\".format(doc_id, word_id))\n",
    "print(\"-- count: {}\".format(X[doc_id, word_id]))\n",
    "print(\"-- word : {}\".format(vocab[word_id]))\n",
    "print(\"-- doc  : {}\".format(titles[doc_id]))"
   ]
  },
  {
   "cell_type": "code",
   "execution_count": 21,
   "metadata": {
    "collapsed": false
   },
   "outputs": [
    {
     "name": "stdout",
     "output_type": "stream",
     "text": [
      "topic: 0 sum: 1.0000000000000875\n",
      "topic: 1 sum: 1.0000000000001148\n",
      "topic: 2 sum: 0.9999999999998656\n",
      "topic: 3 sum: 1.0000000000000042\n",
      "topic: 4 sum: 1.0000000000000928\n",
      "*Topic 0\n",
      "- government british minister west group\n",
      "*Topic 1\n",
      "- church first during people political\n",
      "*Topic 2\n",
      "- elvis king wright fans presley\n",
      "*Topic 3\n",
      "- yeltsin russian russia president kremlin\n",
      "*Topic 4\n",
      "- pope vatican paul surgery pontiff\n",
      "*Topic 5\n",
      "- family police miami versace cunanan\n",
      "*Topic 6\n",
      "- south simpson born york white\n",
      "*Topic 7\n",
      "- order church mother successor since\n",
      "*Topic 8\n",
      "- charles prince diana royal queen\n",
      "*Topic 9\n",
      "- film france french against actor\n",
      "*Topic 10\n",
      "- germany german war nazi christian\n",
      "*Topic 11\n",
      "- east prize peace timor quebec\n",
      "*Topic 12\n",
      "- n't told life people church\n",
      "*Topic 13\n",
      "- years world time year last\n",
      "*Topic 14\n",
      "- mother teresa heart charity calcutta\n",
      "*Topic 15\n",
      "- city salonika exhibition buddhist byzantine\n",
      "*Topic 16\n",
      "- music first people tour including\n",
      "*Topic 17\n",
      "- church catholic bernardin cardinal bishop\n",
      "*Topic 18\n",
      "- harriman clinton u.s churchill paris\n",
      "*Topic 19\n",
      "- century art million museum city\n"
     ]
    }
   ],
   "source": [
    "# Topic-word Probabilities\n",
    "\n",
    "topic_word = model.topic_word_\n",
    "for n in range(5):\n",
    "    sum_pr = sum(topic_word[n,:])\n",
    "    print(\"topic: {} sum: {}\".format(n, sum_pr))\n",
    "    \n",
    "#Top 5 words for each topic\n",
    "\n",
    "n = 5\n",
    "for i, topic_dist in enumerate(topic_word):\n",
    "    topic_words = np.array(vocab)[np.argsort(topic_dist)][:-(n+1):-1]\n",
    "    print('*Topic {}\\n- {}'.format(i, ' '.join(topic_words)))\n",
    "    \n"
   ]
  },
  {
   "cell_type": "code",
   "execution_count": 23,
   "metadata": {
    "collapsed": false
   },
   "outputs": [
    {
     "name": "stdout",
     "output_type": "stream",
     "text": [
      "document: 0 sum: 1.0000000000000002\n",
      "document: 1 sum: 0.9999999999999998\n",
      "document: 2 sum: 1.0\n",
      "document: 3 sum: 1.0000000000000002\n",
      "document: 4 sum: 0.9999999999999997\n",
      "doc: 0 topic: 8\n",
      "0 UK: Prince Charles spearheads British royal revo...\n",
      "doc: 1 topic: 1\n",
      "1 GERMANY: Historic Dresden church rising from WW2...\n",
      "doc: 2 topic: 14\n",
      "2 INDIA: Mother Teresa's condition said still unst...\n",
      "doc: 3 topic: 8\n",
      "3 UK: Palace warns British weekly over Charles pic...\n",
      "doc: 4 topic: 14\n",
      "4 INDIA: Mother Teresa, slightly stronger, blesses...\n",
      "doc: 5 topic: 14\n",
      "5 INDIA: Mother Teresa's condition unchanged, thou...\n",
      "doc: 6 topic: 14\n",
      "6 INDIA: Mother Teresa shows signs of strength, bl...\n",
      "doc: 7 topic: 14\n",
      "7 INDIA: Mother Teresa's condition improves, many ...\n",
      "doc: 8 topic: 14\n",
      "8 INDIA: Mother Teresa improves, nuns pray for \"mi...\n",
      "doc: 9 topic: 8\n",
      "9 UK: Charles under fire over prospect of Queen Ca...\n"
     ]
    }
   ],
   "source": [
    "# Document-topic Probab\n",
    "\n",
    "doc_topic = model.doc_topic_\n",
    "\n",
    "for n in range(5):\n",
    "    sum_pr = sum(doc_topic[n,:])\n",
    "    print(\"document: {} sum: {}\".format(n, sum_pr))\n",
    "\n",
    "for n in range(10):\n",
    "    topic_most_pr = doc_topic[n].argmax()\n",
    "    print(\"doc: {} topic: {}\\n{}...\".format(n,\n",
    "                                            topic_most_pr,\n",
    "                                            titles[n][:50]))\n"
   ]
  },
  {
   "cell_type": "code",
   "execution_count": null,
   "metadata": {
    "collapsed": false
   },
   "outputs": [
    {
     "name": "stderr",
     "output_type": "stream",
     "text": [
      "/Users/tarunruchandani/anaconda3/lib/python3.5/site-packages/matplotlib/tight_layout.py:222: UserWarning: tight_layout : falling back to Agg renderer\n",
      "  warnings.warn(\"tight_layout : falling back to Agg renderer\")\n"
     ]
    }
   ],
   "source": [
    "## Visualizing \n",
    "\n",
    "import matplotlib.pyplot as plt\n",
    "\n",
    "# use matplotlib style sheet\n",
    "try:\n",
    "    plt.style.use('ggplot')\n",
    "except:\n",
    "    # version of matplotlib might not be recent\n",
    "    pass\n",
    "\n",
    "# f, ax= plt.subplots(5, 1, figsize=(8, 6), sharex=True)\n",
    "# for i, k in enumerate([0, 5, 9, 14, 19]):\n",
    "#     ax[i].stem(topic_word[k,:], linefmt='b-',\n",
    "#                markerfmt='bo', basefmt='w-')\n",
    "#     ax[i].set_xlim(-50,4350)\n",
    "#     ax[i].set_ylim(0, 0.08)\n",
    "#     ax[i].set_ylabel(\"Prob\")\n",
    "#     ax[i].set_title(\"topic {}\".format(k))\n",
    "\n",
    "# ax[4].set_xlabel(\"word\")\n",
    "\n",
    "# plt.tight_layout()\n",
    "# plt.show()\n",
    "\n",
    "f, ax= plt.subplots(5, 1, figsize=(8, 6), sharex=True)\n",
    "for i, k in enumerate([1, 3, 4, 8, 9]):\n",
    "    ax[i].stem(doc_topic[k,:], linefmt='r-',\n",
    "               markerfmt='ro', basefmt='w-')\n",
    "    ax[i].set_xlim(-1, 21)\n",
    "    ax[i].set_ylim(0, 1)\n",
    "    ax[i].set_ylabel(\"Prob\")\n",
    "    ax[i].set_title(\"Document {}\".format(k))\n",
    "\n",
    "ax[4].set_xlabel(\"Topic\")\n",
    "\n",
    "plt.tight_layout()\n",
    "plt.show()"
   ]
  },
  {
   "cell_type": "code",
   "execution_count": null,
   "metadata": {
    "collapsed": true
   },
   "outputs": [],
   "source": []
  }
 ],
 "metadata": {
  "kernelspec": {
   "display_name": "Python 3",
   "language": "python",
   "name": "python3"
  },
  "language_info": {
   "codemirror_mode": {
    "name": "ipython",
    "version": 3
   },
   "file_extension": ".py",
   "mimetype": "text/x-python",
   "name": "python",
   "nbconvert_exporter": "python",
   "pygments_lexer": "ipython3",
   "version": "3.5.2"
  }
 },
 "nbformat": 4,
 "nbformat_minor": 0
}
